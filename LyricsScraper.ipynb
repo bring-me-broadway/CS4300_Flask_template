{
 "cells": [
  {
   "cell_type": "code",
   "execution_count": 125,
   "metadata": {},
   "outputs": [],
   "source": [
    "from requests import get\n",
    "from requests.exceptions import RequestException\n",
    "from contextlib import closing\n",
    "from bs4 import BeautifulSoup\n",
    "import string"
   ]
  },
  {
   "cell_type": "code",
   "execution_count": 4,
   "metadata": {},
   "outputs": [],
   "source": [
    "def simple_get(url):\n",
    "    \"\"\"\n",
    "    Attempts to get the content at `url` by making an HTTP GET request.\n",
    "    If the content-type of response is some kind of HTML/XML, return the\n",
    "    text content, otherwise return None.\n",
    "    \"\"\"\n",
    "    try:\n",
    "        with closing(get(url, stream=True)) as resp:\n",
    "            if is_good_response(resp):\n",
    "                return resp.content\n",
    "            else:\n",
    "                return None\n",
    "\n",
    "    except RequestException as e:\n",
    "        log_error('Error during requests to {0} : {1}'.format(url, str(e)))\n",
    "        return None\n",
    "\n",
    "\n",
    "def is_good_response(resp):\n",
    "    \"\"\"\n",
    "    Returns True if the response seems to be HTML, False otherwise.\n",
    "    \"\"\"\n",
    "    content_type = resp.headers['Content-Type'].lower()\n",
    "    return (resp.status_code == 200 \n",
    "            and content_type is not None \n",
    "            and content_type.find('html') > -1)\n",
    "\n",
    "\n",
    "def log_error(e):\n",
    "    \"\"\"\n",
    "    It is always a good idea to log errors. \n",
    "    This function just prints them, but you can\n",
    "    make it do anything.\n",
    "    \"\"\"\n",
    "    print(e)"
   ]
  },
  {
   "cell_type": "code",
   "execution_count": 134,
   "metadata": {},
   "outputs": [],
   "source": [
    "show_titles = []\n",
    "letters = list(string.ascii_lowercase)\n",
    "letters.append('19')\n",
    "for letter in letters:\n",
    "    letter_html = simple_get('https://www.allmusicals.com/' + letter + '.htm')\n",
    "    letter_soup = BeautifulSoup(letter_html, 'html.parser')\n",
    "    for a in letter_soup.find_all('a'):\n",
    "        show_link = a.get('href')\n",
    "        if \"/\" + letter + \"/\" in show_link:\n",
    "            show_titles.append(show_link)"
   ]
  },
  {
   "cell_type": "code",
   "execution_count": 301,
   "metadata": {},
   "outputs": [
    {
     "name": "stdout",
     "output_type": "stream",
     "text": [
      "theyreplayingoursong\n",
      "thoroughlymodernmillie\n",
      "ticktickboom\n",
      "titanic\n",
      "titleofshow\n",
      "toxicavengerthe\n",
      "triumphoflove\n",
      "twogentlemenofverona\n",
      "unsinkablemollybrownthe\n",
      "urinetown\n",
      "vanities\n",
      "verygoodeddie\n",
      "verypottersequela\n",
      "verypottera\n",
      "victorvictoria\n",
      "waitress\n",
      "walmartopia\n",
      "warpaint\n",
      "waterbabies\n",
      "wewillrockyou\n",
      "weddingsinger\n",
      "westsidestory\n",
      "whitechristmas\n",
      "whostommythe\n",
      "wicked\n",
      "wildparty\n",
      "wildcat\n",
      "willrogersfolliesthe\n",
      "wizthe\n",
      "wizardofozthe\n",
      "womaninwhite\n",
      "womenonthevergeofanervousbreakdown\n",
      "wonderfultown\n",
      "wonderlandalicesnewmusicaladventure\n",
      "working\n",
      "wicked\n",
      "xanadu\n",
      "yank\n",
      "yearwithfrogandtoada\n",
      "youreagoodmancharliebrown\n",
      "youngfrankenstein\n",
      "zthemaskedmusicalofzorro\n",
      "zannadont\n",
      "zombieprom\n",
      "zorro\n",
      "110intheshade\n",
      "13\n",
      "1776\n",
      "25thannualputnamcountyspellingbee\n",
      "42ndstreet\n",
      "70girls70\n",
      "9to5\n"
     ]
    }
   ],
   "source": [
    "show_dict = {}\n",
    "for title_link in show_titles[431:]:\n",
    "    title = title_link[title_link.rfind('/')+1:title_link.rfind('.')]\n",
    "    print(title)\n",
    "    show_dict[title] = {}\n",
    "    show_dict[title]['song_titles'] = []\n",
    "    show_dict[title]['script'] = []\n",
    "    show_dict[title]['lyrics'] = []\n",
    "    page_html = simple_get('https://www.allmusicals.com' + title_link)\n",
    "    page_soup = BeautifulSoup(page_html, 'html.parser')\n",
    "    \n",
    "    song_links = []\n",
    "    show_lyrics = []\n",
    "    for a in page_soup.find_all('a'):\n",
    "        song_link = a.get('href')\n",
    "        if \"http://www.allmusicals.com/lyrics\" in song_link and 'htm#' not in song_link:\n",
    "            song_links.append(song_link)\n",
    "            if simple_get(song_link) is not None:\n",
    "                song_soup = BeautifulSoup(simple_get(song_link), 'html.parser')\n",
    "                song_soup = song_soup.findAll('div', attrs = {'id':\"page\"})\n",
    "                if song_soup != []:\n",
    "                    for s in song_soup[0].stripped_strings:\n",
    "                        show_lyrics.append(s)\n",
    "    show_dict[title]['song_titles'] = song_links\n",
    "    show_dict[title]['lyrics'] = show_lyrics\n",
    "    \n",
    "    \n",
    "    '''\n",
    "    show_script = []\n",
    "    script_html = simple_get('https://www.allmusicals.com/lyrics/' + title + '/script.htm')\n",
    "    script_soup = BeautifulSoup(script_html, 'html.parser')\n",
    "    for line in script_soup.stripped_strings:\n",
    "        show_script.append(line)\n",
    "    show_dict[title]['script'] = show_script\n",
    "    '''"
   ]
  },
  {
   "cell_type": "code",
   "execution_count": 237,
   "metadata": {},
   "outputs": [],
   "source": [
    "show_dict_upto155 = show_dict"
   ]
  },
  {
   "cell_type": "code",
   "execution_count": 258,
   "metadata": {},
   "outputs": [],
   "source": [
    "show_dict_part2 = show_dict"
   ]
  },
  {
   "cell_type": "code",
   "execution_count": 264,
   "metadata": {},
   "outputs": [],
   "source": [
    "show_dict_part3 = show_dict"
   ]
  },
  {
   "cell_type": "code",
   "execution_count": 267,
   "metadata": {},
   "outputs": [],
   "source": [
    "show_dict_part4 = show_dict"
   ]
  },
  {
   "cell_type": "code",
   "execution_count": 284,
   "metadata": {},
   "outputs": [],
   "source": [
    "show_dict_part5 = show_dict"
   ]
  },
  {
   "cell_type": "code",
   "execution_count": 292,
   "metadata": {},
   "outputs": [],
   "source": [
    "show_dict_part6 = show_dict"
   ]
  },
  {
   "cell_type": "code",
   "execution_count": 296,
   "metadata": {},
   "outputs": [],
   "source": [
    "show_dict_part7 = show_dict"
   ]
  },
  {
   "cell_type": "code",
   "execution_count": 302,
   "metadata": {},
   "outputs": [],
   "source": [
    "show_dict_part8 = show_dict"
   ]
  },
  {
   "cell_type": "code",
   "execution_count": 305,
   "metadata": {},
   "outputs": [],
   "source": [
    "dictionaries = [show_dict_part8, show_dict_part7, show_dict_part6, show_dict_part5, show_dict_part4, \n",
    "                show_dict_part3, show_dict_part2, show_dict_upto155]\n",
    "            \n",
    "overall_dict = {}\n",
    "for dic in dictionaries:\n",
    "    for key in dic:\n",
    "        if key not in overall_dict:\n",
    "            overall_dict[key] = dic[key]"
   ]
  },
  {
   "cell_type": "code",
   "execution_count": 315,
   "metadata": {},
   "outputs": [],
   "source": [
    "import json\n",
    " \n",
    "bway_json = json.dumps(overall_dict)\n",
    "f = open(\"broadway_lyrics.json\",\"w\")\n",
    "f.write(bway_json)\n",
    "f.close()"
   ]
  },
  {
   "cell_type": "code",
   "execution_count": 318,
   "metadata": {},
   "outputs": [],
   "source": [
    "import pickle\n",
    "f = open(\"broadway_lyrics.pkl\",\"wb\")\n",
    "pickle.dump(overall_dict,f)\n",
    "f.close()"
   ]
  },
  {
   "cell_type": "code",
   "execution_count": null,
   "metadata": {},
   "outputs": [],
   "source": []
  }
 ],
 "metadata": {
  "kernelspec": {
   "display_name": "venv",
   "language": "python",
   "name": "venv"
  },
  "language_info": {
   "codemirror_mode": {
    "name": "ipython",
    "version": 3
   },
   "file_extension": ".py",
   "mimetype": "text/x-python",
   "name": "python",
   "nbconvert_exporter": "python",
   "pygments_lexer": "ipython3",
   "version": "3.5.2"
  }
 },
 "nbformat": 4,
 "nbformat_minor": 2
}
