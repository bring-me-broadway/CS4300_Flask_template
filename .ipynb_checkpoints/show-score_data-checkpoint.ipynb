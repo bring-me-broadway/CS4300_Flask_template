{
 "cells": [
  {
   "cell_type": "code",
   "execution_count": 2,
   "metadata": {},
   "outputs": [],
   "source": [
    "from requests import get\n",
    "from requests.exceptions import RequestException\n",
    "from contextlib import closing\n",
    "from bs4 import BeautifulSoup"
   ]
  },
  {
   "cell_type": "code",
   "execution_count": 3,
   "metadata": {},
   "outputs": [],
   "source": [
    "def get_url(url):\n",
    "    try:\n",
    "        with closing(get(url, stream=True)) as response:\n",
    "            if is_good(response):\n",
    "                return response.content\n",
    "            else:\n",
    "                return None\n",
    "\n",
    "    except RequestException as e:\n",
    "        print('Error during requests to {0} : {1}'.format(url, str(e)))\n",
    "        return None\n",
    "def is_good(resp):\n",
    "    \"\"\"\n",
    "    Returns True if the response seems to be HTML, False otherwise.\n",
    "    \"\"\"\n",
    "    content_type = resp.headers['Content-Type'].lower()\n",
    "    return (resp.status_code == 200 \n",
    "            and content_type is not None \n",
    "            and content_type.find('html') > -1)\n"
   ]
  },
  {
   "cell_type": "code",
   "execution_count": 65,
   "metadata": {},
   "outputs": [
    {
     "name": "stdout",
     "output_type": "stream",
     "text": [
      "131636\n"
     ]
    }
   ],
   "source": [
    "showscore = 'https://www.show-score.com/categories/top-scoring-on-broadway'\n",
    "showscore2 = 'https://www.show-score.com/shows/all?opened=yes'\n",
    "raw_html = get_url(showscore)\n",
    "print(len(raw_html))"
   ]
  },
  {
   "cell_type": "code",
   "execution_count": 71,
   "metadata": {},
   "outputs": [
    {
     "name": "stdout",
     "output_type": "stream",
     "text": [
      "{0: ['Hamilton (NYC)', \"Lin-Manuel Miranda's hip-hop infused tuner about Alexander Hamilton began at The Public Theater to rave reviews, then transferred to Broadway where it won eleven 2016 Tony Awards including Best Musical. \", '97'], 1: ['Wicked (NYC)', 'Now in its fourteenth year on Broadway, this all-ages spectacle follows the untold true story of the Witches of Oz.', '93'], 2: ['Dear Evan Hansen (NYC)', \"'Dear Evan Hansen' is about how we share, like, and friend, love, feel, and survive in the modern world. Winner of six 2017 Tony Awards, including Best Musical.\", '93'], 3: ['The Lion King (NYC)', \"In Julie Taymor's Tony Award winning retelling of Disney's animated hit, puppets and live actors weave a dreamscape of jungle characters, creating the story of young Simba's rise to the throne.\", '91'], 4: ['Come From Away (NYC)', 'This Broadway sleeper hit musical tells the heartwarming true story a tiny Canadian town that cared for thousands of grounded travelers in the wake of the 9/11 attacks.', '91'], 5: ['Harry Potter and the Cursed Ch...', 'Harry Potter comes to Broadway all grown up in this two-part story that picks up with Harry, Ginny, Ron, and Hermoine nineteen years after the events of the final book. Winner of six Tony Awards, including Best Play.', '91'], 6: ['Beautiful: The Carole King Mus...', \"The Tony and Grammy Award-winning Carole King musical tells the inspiring true story of one woman's remarkable journey from teenage songwriter to the Rock & Roll Hall of Fame.\", '90'], 7: ['The Book of Mormon (Broadway)', \"From the creators of 'South Park,' a Tony Award-winning, bawdy, irreverent, hilarious, and heartfelt musical about two missionaries sent to deepest, darkest Africa to spread the good word.\", '90'], 8: ['The Ferryman (NYC)', 'After a critically acclaimed run in London, where it won three Olivier Awards, Jez Butterworth’s (\"Jerusalem\") new Northern Irish drama makes its Broadway debut. Directed by Sam Mendes (\"Cabaret\").', '89'], 9: ['Kinky Boots (Broadway)', 'This Tony-winning Best Musical, about a shoemaker whose business is saved by a wildly flamboyant clientele, features a score of catchy songs written by pop star Cyndi Lauper.', '88'], 10: ['My Fair Lady (Broadway)', 'Lincoln Center Theater revives Lerner and Loewe’s iconic musical in a production directed by Tony winner Bartlett Sher and starring Laura Benanti, Harry Hadden-Paton, Danny Burstein, and Rosemary Harris.', '88'], 11: ['The Phantom of the Opera (NYC)', 'In this classic musical - the longest running in Broadway history - a hideously deformed man lives in the cellars of the Paris Opera and takes a beautiful soprano as a student. ', '87'], 12: ['Waitress (NYC)', 'Inspired by the film of the same name, the Broadway musical \"Waitress\" features songs by Grammy nominee Sara Bareilles.', '87'], 13: ['To Kill a Mockingbird (Broadway)', \"Jeff Daniels stars as Atticus Finch in Aaron Sorkin’s Broadway adaptation of Harper Lee's Pulitzer Prize-winning novel for Lincoln Center. Directed by Tony winner Bartlett Sher ('Fiddler on the Roof.')\", '87'], 14: ['Aladdin (Broadway)', 'Disney presents the stage adaptation of its animated blockbuster, featuring the hit songs from the film, plus several more written for Broadway.', '86'], 15: ['What the Constitution Means to...', \"Heidi Schreck's comic and hopeful exploration strives to breathe new life into our Constitution and imagines how it will shape the next generation of American women. (Past Reviews)\", '86'], 16: ['Kiss Me, Kate (Broadway)', \"Tony winner Kelli O'Hara returns to Broadway in the Roundabout's production of Cole Porter’s sparkling 1948 musical riff on Shakespeare's 'Taming of the Shrew.'\", '85'], 17: [\"The Band's Visit (Broadway)\", \"Based on the film of the same name, Atlantic Theater Company's critically acclaimed musical by songwriter David Yazbek was the winner of ten 2018 Tony Awards, including Best Musical.\", '84'], 18: ['The Prom (Broadway)', \"This new Broadway musical comedy centers around four fading stars, whose desperate need of a new stage leads them to protest a small-town prom.\\xa0Directed by Tony Award winner Casey Nicholaw ('Book of Mormon.')\", '84'], 19: ['Chicago (NYC)', \"A long-running revival of Kander and Ebb's gritty, satirical musical about lust, treachery, and murder among chorus girls in '20s Chicago.\", '83'], 20: ['Hillary and Clinton', 'Lucas Hnath\\'s (\"A Doll\\'s House, Part 2\") new work examines the politics of marriage, gender roles, and the limitations of experience and inevitability. Starring two-time Tony winners Laurie Metcalf and John Lithgow.', '83'], 21: ['Anastasia (NYC)', 'Inspired by the Anastasia legend and two movies—including the 1997 animated film—this new musical is the romantic, adventure-filled story of a brave young woman attempting to uncover her past.', '82'], 22: ['Mean Girls (Broadway)', \"Tina Fey's blockbuster 2004 comedy becomes a brand-new Broadway musical directed by Tony winner Casey Nicholaw.\", '82'], 23: ['Network (NYC)', 'After making its premiere in at the National Theatre in London, the adaptation of the Oscar-winning film comes to Broadway, starring Tony and Emmy winner Bryan Cranston.', '82']}\n"
     ]
    }
   ],
   "source": [
    "import re\n",
    "html = BeautifulSoup(raw_html, 'html.parser')\n",
    "\n",
    "# get name\n",
    "musical_dict = {}\n",
    "for idx, mess in enumerate(html.select('.show-tile__name')):\n",
    "#     print(mess)\n",
    "    messString = str(mess)\n",
    "    pattern = re.compile('\\>(.*?)\\n')\n",
    "    match = pattern.search(messString)\n",
    "#     if match != None:\n",
    "    name = match.group(1)\n",
    "#     print(\"name: \", name)\n",
    "    musical_dict[idx] = [name]\n",
    "#     else:\n",
    "#         pattern = re.compile('\\>(.*?)\\.')\n",
    "#         match = pattern.search(messString)\n",
    "#         name = match.group(1)\n",
    "#         print(\"name: \", name)\n",
    "    \n",
    "# get description\n",
    "for idx,p in enumerate(html.select('p')):\n",
    "#     print(\"description: \",p.text)\n",
    "    if idx in musical_dict:\n",
    "        musical_dict[idx].append(p.text)\n",
    "    \n",
    "    \n",
    "# get score\n",
    "for idx, mess in enumerate(html.select('.positive.show-tile__score')):\n",
    "#     print(mess)\n",
    "    messString = str(mess)\n",
    "    pattern = re.compile('<span class=\"positive show-tile__score\"\\>\\n(\\d+)')\n",
    "    match = pattern.search(messString)\n",
    "    score = match.group(1)\n",
    "#     print(\"score: \", score)\n",
    "    musical_dict[idx].append(score)\n",
    "print(musical_dict)"
   ]
  },
  {
   "cell_type": "code",
   "execution_count": 75,
   "metadata": {},
   "outputs": [],
   "source": [
    "import csv\n",
    "with open('showscore.csv','w') as file:\n",
    "    writer = csv.writer(file, delimiter=',')\n",
    "    writer.writerow(['Name','Score', 'Description'])\n",
    "    for idx, musicals in musical_dict.items():\n",
    "        writer.writerow([musicals[0],musicals[2], musicals[1]])"
   ]
  },
  {
   "cell_type": "code",
   "execution_count": null,
   "metadata": {},
   "outputs": [],
   "source": []
  }
 ],
 "metadata": {
  "kernelspec": {
   "display_name": "venv",
   "language": "python",
   "name": "venv"
  },
  "language_info": {
   "codemirror_mode": {
    "name": "ipython",
    "version": 3
   },
   "file_extension": ".py",
   "mimetype": "text/x-python",
   "name": "python",
   "nbconvert_exporter": "python",
   "pygments_lexer": "ipython3",
   "version": "3.5.2"
  }
 },
 "nbformat": 4,
 "nbformat_minor": 2
}
